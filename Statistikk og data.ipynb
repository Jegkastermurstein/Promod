{
 "cells": [
  {
   "cell_type": "markdown",
   "metadata": {},
   "source": [
    "# Data og statistikk\n",
    "### Program som viser hvor mange solflekker hver måned har siden 1700-taller\n",
    "\n",
    "Vi kan lese filer vha. funksjonen_loadtxt\n",
    "data = loadtxt(filnavn), skiprows=1, delimiter=\"1\""
   ]
  },
  {
   "cell_type": "code",
   "execution_count": 2,
   "metadata": {},
   "outputs": [
    {
     "name": "stderr",
     "output_type": "stream",
     "text": [
      "No handles with labels found to put in legend.\n"
     ]
    },
    {
     "name": "stdout",
     "output_type": "stream",
     "text": [
      "[[1.700e+03 5.000e+00]\n",
      " [1.701e+03 1.100e+01]\n",
      " [1.702e+03 1.600e+01]\n",
      " [1.703e+03 2.300e+01]\n",
      " [1.704e+03 3.600e+01]\n",
      " [1.705e+03 5.800e+01]\n",
      " [1.706e+03 2.900e+01]\n",
      " [1.707e+03 2.000e+01]\n",
      " [1.708e+03 1.000e+01]\n",
      " [1.709e+03 8.000e+00]\n",
      " [1.710e+03 3.000e+00]\n",
      " [1.711e+03 0.000e+00]\n",
      " [1.712e+03 0.000e+00]\n",
      " [1.713e+03 2.000e+00]\n",
      " [1.714e+03 1.100e+01]\n",
      " [1.715e+03 2.700e+01]\n",
      " [1.716e+03 4.700e+01]\n",
      " [1.717e+03 6.300e+01]\n",
      " [1.718e+03 6.000e+01]\n",
      " [1.719e+03 3.900e+01]\n",
      " [1.720e+03 2.800e+01]\n",
      " [1.721e+03 2.600e+01]\n",
      " [1.722e+03 2.200e+01]\n",
      " [1.723e+03 1.100e+01]\n",
      " [1.724e+03 2.100e+01]\n",
      " [1.725e+03 4.000e+01]\n",
      " [1.726e+03 7.800e+01]\n",
      " [1.727e+03 1.220e+02]\n",
      " [1.728e+03 1.030e+02]\n",
      " [1.729e+03 7.300e+01]\n",
      " [1.730e+03 4.700e+01]\n",
      " [1.731e+03 3.500e+01]\n",
      " [1.732e+03 1.100e+01]\n",
      " [1.733e+03 5.000e+00]\n",
      " [1.734e+03 1.600e+01]\n",
      " [1.735e+03 3.400e+01]\n",
      " [1.736e+03 7.000e+01]\n",
      " [1.737e+03 8.100e+01]\n",
      " [1.738e+03 1.110e+02]\n",
      " [1.739e+03 1.010e+02]\n",
      " [1.740e+03 7.300e+01]\n",
      " [1.741e+03 4.000e+01]\n",
      " [1.742e+03 2.000e+01]\n",
      " [1.743e+03 1.600e+01]\n",
      " [1.744e+03 5.000e+00]\n",
      " [1.745e+03 1.100e+01]\n",
      " [1.746e+03 2.200e+01]\n",
      " [1.747e+03 4.000e+01]\n",
      " [1.748e+03 6.000e+01]\n",
      " [1.749e+03 8.090e+01]\n",
      " [1.750e+03 8.340e+01]\n",
      " [1.751e+03 4.770e+01]\n",
      " [1.752e+03 4.780e+01]\n",
      " [1.753e+03 3.070e+01]\n",
      " [1.754e+03 1.220e+01]\n",
      " [1.755e+03 9.600e+00]\n",
      " [1.756e+03 1.020e+01]\n",
      " [1.757e+03 3.240e+01]\n",
      " [1.758e+03 4.760e+01]\n",
      " [1.759e+03 5.400e+01]\n",
      " [1.760e+03 6.290e+01]\n",
      " [1.761e+03 8.590e+01]\n",
      " [1.762e+03 6.120e+01]\n",
      " [1.763e+03 4.510e+01]\n",
      " [1.764e+03 3.640e+01]\n",
      " [1.765e+03 2.090e+01]\n",
      " [1.766e+03 1.140e+01]\n",
      " [1.767e+03 3.780e+01]\n",
      " [1.768e+03 6.980e+01]\n",
      " [1.769e+03 1.061e+02]\n",
      " [1.770e+03 1.008e+02]\n",
      " [1.771e+03 8.160e+01]\n",
      " [1.772e+03 6.650e+01]\n",
      " [1.773e+03 3.480e+01]\n",
      " [1.774e+03 3.060e+01]\n",
      " [1.775e+03 7.000e+00]\n",
      " [1.776e+03 1.980e+01]\n",
      " [1.777e+03 9.250e+01]\n",
      " [1.778e+03 1.544e+02]\n",
      " [1.779e+03 1.259e+02]\n",
      " [1.780e+03 8.480e+01]\n",
      " [1.781e+03 6.810e+01]\n",
      " [1.782e+03 3.850e+01]\n",
      " [1.783e+03 2.280e+01]\n",
      " [1.784e+03 1.020e+01]\n",
      " [1.785e+03 2.410e+01]\n",
      " [1.786e+03 8.290e+01]\n",
      " [1.787e+03 1.320e+02]\n",
      " [1.788e+03 1.309e+02]\n",
      " [1.789e+03 1.181e+02]\n",
      " [1.790e+03 8.990e+01]\n",
      " [1.791e+03 6.660e+01]\n",
      " [1.792e+03 6.000e+01]\n",
      " [1.793e+03 4.690e+01]\n",
      " [1.794e+03 4.100e+01]\n",
      " [1.795e+03 2.130e+01]\n",
      " [1.796e+03 1.600e+01]\n",
      " [1.797e+03 6.400e+00]\n",
      " [1.798e+03 4.100e+00]\n",
      " [1.799e+03 6.800e+00]\n",
      " [1.800e+03 1.450e+01]\n",
      " [1.801e+03 3.400e+01]\n",
      " [1.802e+03 4.500e+01]\n",
      " [1.803e+03 4.310e+01]\n",
      " [1.804e+03 4.750e+01]\n",
      " [1.805e+03 4.220e+01]\n",
      " [1.806e+03 2.810e+01]\n",
      " [1.807e+03 1.010e+01]\n",
      " [1.808e+03 8.100e+00]\n",
      " [1.809e+03 2.500e+00]\n",
      " [1.810e+03 0.000e+00]\n",
      " [1.811e+03 1.400e+00]\n",
      " [1.812e+03 5.000e+00]\n",
      " [1.813e+03 1.220e+01]\n",
      " [1.814e+03 1.390e+01]\n",
      " [1.815e+03 3.540e+01]\n",
      " [1.816e+03 4.580e+01]\n",
      " [1.817e+03 4.110e+01]\n",
      " [1.818e+03 3.010e+01]\n",
      " [1.819e+03 2.390e+01]\n",
      " [1.820e+03 1.560e+01]\n",
      " [1.821e+03 6.600e+00]\n",
      " [1.822e+03 4.000e+00]\n",
      " [1.823e+03 1.800e+00]\n",
      " [1.824e+03 8.500e+00]\n",
      " [1.825e+03 1.660e+01]\n",
      " [1.826e+03 3.630e+01]\n",
      " [1.827e+03 4.960e+01]\n",
      " [1.828e+03 6.420e+01]\n",
      " [1.829e+03 6.700e+01]\n",
      " [1.830e+03 7.090e+01]\n",
      " [1.831e+03 4.780e+01]\n",
      " [1.832e+03 2.750e+01]\n",
      " [1.833e+03 8.500e+00]\n",
      " [1.834e+03 1.320e+01]\n",
      " [1.835e+03 5.690e+01]\n",
      " [1.836e+03 1.215e+02]\n",
      " [1.837e+03 1.383e+02]\n",
      " [1.838e+03 1.032e+02]\n",
      " [1.839e+03 8.570e+01]\n",
      " [1.840e+03 6.460e+01]\n",
      " [1.841e+03 3.670e+01]\n",
      " [1.842e+03 2.420e+01]\n",
      " [1.843e+03 1.070e+01]\n",
      " [1.844e+03 1.500e+01]\n",
      " [1.845e+03 4.010e+01]\n",
      " [1.846e+03 6.150e+01]\n",
      " [1.847e+03 9.850e+01]\n",
      " [1.848e+03 1.247e+02]\n",
      " [1.849e+03 9.630e+01]\n",
      " [1.850e+03 6.660e+01]\n",
      " [1.851e+03 6.450e+01]\n",
      " [1.852e+03 5.410e+01]\n",
      " [1.853e+03 3.900e+01]\n",
      " [1.854e+03 2.060e+01]\n",
      " [1.855e+03 6.700e+00]\n",
      " [1.856e+03 4.300e+00]\n",
      " [1.857e+03 2.270e+01]\n",
      " [1.858e+03 5.480e+01]\n",
      " [1.859e+03 9.380e+01]\n",
      " [1.860e+03 9.580e+01]\n",
      " [1.861e+03 7.720e+01]\n",
      " [1.862e+03 5.910e+01]\n",
      " [1.863e+03 4.400e+01]\n",
      " [1.864e+03 4.700e+01]\n",
      " [1.865e+03 3.050e+01]\n",
      " [1.866e+03 1.630e+01]\n",
      " [1.867e+03 7.300e+00]\n",
      " [1.868e+03 3.760e+01]\n",
      " [1.869e+03 7.400e+01]\n",
      " [1.870e+03 1.390e+02]\n",
      " [1.871e+03 1.112e+02]\n",
      " [1.872e+03 1.016e+02]\n",
      " [1.873e+03 6.620e+01]\n",
      " [1.874e+03 4.470e+01]\n",
      " [1.875e+03 1.700e+01]\n",
      " [1.876e+03 1.130e+01]\n",
      " [1.877e+03 1.240e+01]\n",
      " [1.878e+03 3.400e+00]\n",
      " [1.879e+03 6.000e+00]\n",
      " [1.880e+03 3.230e+01]\n",
      " [1.881e+03 5.430e+01]\n",
      " [1.882e+03 5.970e+01]\n",
      " [1.883e+03 6.370e+01]\n",
      " [1.884e+03 6.350e+01]\n",
      " [1.885e+03 5.220e+01]\n",
      " [1.886e+03 2.540e+01]\n",
      " [1.887e+03 1.310e+01]\n",
      " [1.888e+03 6.800e+00]\n",
      " [1.889e+03 6.300e+00]\n",
      " [1.890e+03 7.100e+00]\n",
      " [1.891e+03 3.560e+01]\n",
      " [1.892e+03 7.300e+01]\n",
      " [1.893e+03 8.510e+01]\n",
      " [1.894e+03 7.800e+01]\n",
      " [1.895e+03 6.400e+01]\n",
      " [1.896e+03 4.180e+01]\n",
      " [1.897e+03 2.620e+01]\n",
      " [1.898e+03 2.670e+01]\n",
      " [1.899e+03 1.210e+01]\n",
      " [1.900e+03 9.500e+00]\n",
      " [1.901e+03 2.700e+00]\n",
      " [1.902e+03 5.000e+00]\n",
      " [1.903e+03 2.440e+01]\n",
      " [1.904e+03 4.200e+01]\n",
      " [1.905e+03 6.350e+01]\n",
      " [1.906e+03 5.380e+01]\n",
      " [1.907e+03 6.200e+01]\n",
      " [1.908e+03 4.850e+01]\n",
      " [1.909e+03 4.390e+01]\n",
      " [1.910e+03 1.860e+01]\n",
      " [1.911e+03 5.700e+00]\n",
      " [1.912e+03 3.600e+00]\n",
      " [1.913e+03 1.400e+00]\n",
      " [1.914e+03 9.600e+00]\n",
      " [1.915e+03 4.740e+01]\n",
      " [1.916e+03 5.710e+01]\n",
      " [1.917e+03 1.039e+02]\n",
      " [1.918e+03 8.060e+01]\n",
      " [1.919e+03 6.360e+01]\n",
      " [1.920e+03 3.760e+01]\n",
      " [1.921e+03 2.610e+01]\n",
      " [1.922e+03 1.420e+01]\n",
      " [1.923e+03 5.800e+00]\n",
      " [1.924e+03 1.670e+01]\n",
      " [1.925e+03 4.430e+01]\n",
      " [1.926e+03 6.390e+01]\n",
      " [1.927e+03 6.900e+01]\n",
      " [1.928e+03 7.780e+01]\n",
      " [1.929e+03 6.490e+01]\n",
      " [1.930e+03 3.570e+01]\n",
      " [1.931e+03 2.120e+01]\n",
      " [1.932e+03 1.110e+01]\n",
      " [1.933e+03 5.700e+00]\n",
      " [1.934e+03 8.700e+00]\n",
      " [1.935e+03 3.610e+01]\n",
      " [1.936e+03 7.970e+01]\n",
      " [1.937e+03 1.144e+02]\n",
      " [1.938e+03 1.096e+02]\n",
      " [1.939e+03 8.880e+01]\n",
      " [1.940e+03 6.780e+01]\n",
      " [1.941e+03 4.750e+01]\n",
      " [1.942e+03 3.060e+01]\n",
      " [1.943e+03 1.630e+01]\n",
      " [1.944e+03 9.600e+00]\n",
      " [1.945e+03 3.320e+01]\n",
      " [1.946e+03 9.260e+01]\n",
      " [1.947e+03 1.516e+02]\n",
      " [1.948e+03 1.363e+02]\n",
      " [1.949e+03 1.347e+02]\n",
      " [1.950e+03 8.390e+01]\n",
      " [1.951e+03 6.940e+01]\n",
      " [1.952e+03 3.150e+01]\n",
      " [1.953e+03 1.390e+01]\n",
      " [1.954e+03 4.400e+00]\n",
      " [1.955e+03 3.800e+01]\n",
      " [1.956e+03 1.417e+02]\n",
      " [1.957e+03 1.902e+02]\n",
      " [1.958e+03 1.848e+02]\n",
      " [1.959e+03 1.590e+02]\n",
      " [1.960e+03 1.123e+02]\n",
      " [1.961e+03 5.390e+01]\n",
      " [1.962e+03 3.760e+01]\n",
      " [1.963e+03 2.790e+01]\n",
      " [1.964e+03 1.020e+01]\n",
      " [1.965e+03 1.510e+01]\n",
      " [1.966e+03 4.700e+01]\n",
      " [1.967e+03 9.380e+01]\n",
      " [1.968e+03 1.059e+02]\n",
      " [1.969e+03 1.055e+02]\n",
      " [1.970e+03 1.045e+02]\n",
      " [1.971e+03 6.660e+01]\n",
      " [1.972e+03 6.890e+01]\n",
      " [1.973e+03 3.800e+01]\n",
      " [1.974e+03 3.450e+01]\n",
      " [1.975e+03 1.550e+01]\n",
      " [1.976e+03 1.260e+01]\n",
      " [1.977e+03 2.750e+01]\n",
      " [1.978e+03 9.250e+01]\n",
      " [1.979e+03 1.554e+02]\n",
      " [1.980e+03 1.546e+02]\n",
      " [1.981e+03 1.404e+02]\n",
      " [1.982e+03 1.159e+02]\n",
      " [1.983e+03 6.660e+01]\n",
      " [1.984e+03 4.590e+01]\n",
      " [1.985e+03 1.790e+01]\n",
      " [1.986e+03 1.340e+01]\n",
      " [1.987e+03 2.940e+01]\n",
      " [1.988e+03 1.002e+02]\n",
      " [1.989e+03 1.576e+02]\n",
      " [1.990e+03 1.426e+02]\n",
      " [1.991e+03 1.457e+02]\n",
      " [1.992e+03 9.430e+01]\n",
      " [1.993e+03 5.460e+01]\n",
      " [1.994e+03 2.990e+01]\n",
      " [1.995e+03 1.750e+01]\n",
      " [1.996e+03 8.600e+00]\n",
      " [1.997e+03 2.150e+01]\n",
      " [1.998e+03 6.430e+01]\n",
      " [1.999e+03 9.330e+01]\n",
      " [2.000e+03 1.196e+02]\n",
      " [2.001e+03 1.110e+02]\n",
      " [2.002e+03 1.040e+02]\n",
      " [2.003e+03 6.370e+01]\n",
      " [2.004e+03 4.040e+01]\n",
      " [2.005e+03 2.980e+01]\n",
      " [2.006e+03 1.520e+01]\n",
      " [2.007e+03 7.500e+00]\n",
      " [2.008e+03 2.900e+00]]\n"
     ]
    },
    {
     "data": {
      "text/plain": [
       "<matplotlib.legend.Legend at 0x2519623b978>"
      ]
     },
     "execution_count": 2,
     "metadata": {},
     "output_type": "execute_result"
    },
    {
     "data": {
      "image/png": "[encoded data removed]",
      "text/plain": [
       "<Figure size 432x288 with 1 Axes>"
      ]
     },
     "metadata": {
      "needs_background": "light"
     },
     "output_type": "display_data"
    }
   ],
   "source": [
    "from pylab import *\n",
    "\n",
    "#loader inn en tekst fil (skiprow hopper over en rad.)\n",
    "data = loadtxt(\"solflekker.txt\", skiprows=1, delimiter=\",\")\n",
    "\n",
    "\n",
    "print(data)\n",
    "måned = data[:, 0]\n",
    "antall = data[:, 1]\n",
    "\n",
    "plot(måned, antall, color = \"red\")\n",
    "\n",
    "\n",
    "grid()\n",
    "title(\"Antall solflekker i måneden\")\n",
    "xlabel(\"Måned\")\n",
    "ylabel(\"Antall solflekker\")\n",
    "legend()"
   ]
  },
  {
   "cell_type": "markdown",
   "metadata": {},
   "source": [
    "# Målinger og spredning av dataene"
   ]
  },
  {
   "cell_type": "code",
   "execution_count": 3,
   "metadata": {},
   "outputs": [
    {
     "name": "stdout",
     "output_type": "stream",
     "text": [
      "[2.94642857e-04 5.53571429e-03 3.56928571e+01]\n"
     ]
    },
    {
     "data": {
      "image/png": "[encoded data removed]",
      "text/plain": [
       "<Figure size 432x288 with 1 Axes>"
      ]
     },
     "metadata": {
      "needs_background": "light"
     },
     "output_type": "display_data"
    },
    {
     "name": "stdout",
     "output_type": "stream",
     "text": [
      "[ 8.68303571e-03 -1.66330357e+00  8.74107143e+01]\n"
     ]
    },
    {
     "data": {
      "image/png": "[encoded data removed]",
      "text/plain": [
       "<Figure size 432x288 with 1 Axes>"
      ]
     },
     "metadata": {
      "needs_background": "light"
     },
     "output_type": "display_data"
    }
   ],
   "source": [
    "from pylab import *\n",
    "from sklearn.metrics import r2_score\n",
    "\n",
    "T = [0, 20, 40, 60, 80, 100]\n",
    "sol_NH3 = [88.5, 56.0, 34.0, 20.0, 11.0, 7.0]\n",
    "sol_NaCl = [35.7, 35.9, 36.4, 37.1, 38.0, 39.2]\n",
    "\n",
    "scatter(T, sol_NaCl)\n",
    "#regresjon\n",
    "grad = 2\n",
    "reg_NaCl = polyfit(T, sol_NaCl, grad)\n",
    "print(reg_NaCl)\n",
    "\n",
    "\n",
    "x = linspace(0, 150, 100000)\n",
    "a = reg_NaCl[0]\n",
    "b = reg_NaCl[1]\n",
    "c = reg_NaCl[2]\n",
    "y = a * x**2 + b * x + c\n",
    "\n",
    "plot(x, y)\n",
    "show()\n",
    "\n",
    "\n",
    "\n",
    "#Skjekker om regresjonen er god, funket litt dårlig\n",
    "\n",
    "\"\"\"\n",
    "y_R2 = a * T**2 + b * T + c\n",
    "\n",
    "R2 = r2_score(sol_NH3, y_R2)\n",
    "print(R2)\n",
    "\"\"\"\n",
    "\n",
    "\n",
    "\n",
    "\n",
    "scatter(T, sol_NH3)\n",
    "#regresjon\n",
    "grad = 2\n",
    "reg_NH3 = polyfit(T, sol_NH3, grad)\n",
    "print(reg_NH3)\n",
    "\n",
    "\n",
    "x1 = linspace(0, 150, 100000)\n",
    "a1 = reg_NH3[0]\n",
    "b1 = reg_NH3[1]\n",
    "c1 = reg_NH3[2]\n",
    "y1 = a1 * x1**2 + b1 * x1 + c1\n",
    "\n",
    "plot(x1, y1, color = \"red\")\n",
    "show()\n",
    "\n"
   ]
  },
  {
   "cell_type": "markdown",
   "metadata": {},
   "source": [
    "# Dataframstilling\n",
    "### Usikkerhetsstolpeplott\n",
    "\n",
    " - Det er mange måter å grafisk framstille en statistisk spredning på (Usikkerhetsstolpeplott)\n",
    "\n",
    "\n"
   ]
  },
  {
   "cell_type": "markdown",
   "metadata": {},
   "source": [
    "# Kakediagram og stolpediagram\n"
   ]
  },
  {
   "cell_type": "code",
   "execution_count": 13,
   "metadata": {},
   "outputs": [
    {
     "data": {
      "image/png": "[encoded data removed]",
      "text/plain": [
       "<Figure size 432x288 with 1 Axes>"
      ]
     },
     "metadata": {},
     "output_type": "display_data"
    },
    {
     "data": {
      "text/plain": [
       "<ErrorbarContainer object of 3 artists>"
      ]
     },
     "execution_count": 13,
     "metadata": {},
     "output_type": "execute_result"
    },
    {
     "data": {
      "image/png": "[encoded data removed]",
      "text/plain": [
       "<Figure size 432x288 with 1 Axes>"
      ]
     },
     "metadata": {
      "needs_background": "light"
     },
     "output_type": "display_data"
    }
   ],
   "source": [
    "from pylab import *\n",
    "\n",
    "fag = [\"r2\", \"s2\", \"Kremi 2\", \"fysikk 2\", \"tekforsk\", \"biologi 2\", \"Mattematikk X\", \"Økonomi og ledelse\"]\n",
    "antall = [110, 25, 74, 65, 10, 20, 45, 69]\n",
    "\n",
    "#Lager et kakediagram\n",
    "pie(antall, labels=fag)\n",
    "\n",
    "#Lager Histogram\n",
    "#hist(antall, labels)\n",
    "show()\n",
    "\n",
    "\n",
    "#Lager en errorbar\n",
    "errorbar(fag, antall, std(antall))"
   ]
  },
  {
   "cell_type": "markdown",
   "metadata": {},
   "source": [
    "- Histogram passe på at den passer\n",
    "\n",
    "\n",
    "\n",
    "\n",
    "\n",
    "### Hva vi skal kunne\n",
    "- Lese filer\n",
    "- Utføre regresjon på direkte data\n",
    "- kanskje r2\n",
    "- Vanlig plot og spredningsplot\n",
    "- definere og beregne gjennomsnitt og standaravvik\n",
    "- Plotte usikkerhetsplott\n"
   ]
  },
  {
   "cell_type": "code",
   "execution_count": 5,
   "metadata": {},
   "outputs": [
    {
     "data": {
      "image/png": "[encoded data removed]",
      "text/plain": [
       "<Figure size 432x288 with 1 Axes>"
      ]
     },
     "metadata": {
      "needs_background": "light"
     },
     "output_type": "display_data"
    },
    {
     "data": {
      "image/png": "[encoded data removed]",
      "text/plain": [
       "<Figure size 432x288 with 1 Axes>"
      ]
     },
     "metadata": {
      "needs_background": "light"
     },
     "output_type": "display_data"
    }
   ],
   "source": [
    "from pylab import *\n",
    "\n",
    "data = loadtxt(\"Iris.txt\", delimiter= \",\", skiprows = 1 , usecols=(0,1,2,3,4))\n",
    "\n",
    "\n",
    "sepal_length = data[:, 1]\n",
    "sepal_width = data[:, 2]\n",
    "\n",
    "hist(sepal_length, edgecolor=\"black\")\n",
    "show()\n",
    "     \n",
    "scatter(sepal_length, sepal_width)\n",
    "show()\n",
    "\n"
   ]
  },
  {
   "cell_type": "code",
   "execution_count": null,
   "metadata": {},
   "outputs": [],
   "source": []
  }
 ],
 "metadata": {
  "kernelspec": {
   "display_name": "Python 3",
   "language": "python",
   "name": "python3"
  },
  "language_info": {
   "codemirror_mode": {
    "name": "ipython",
    "version": 3
   },
   "file_extension": ".py",
   "mimetype": "text/x-python",
   "name": "python",
   "nbconvert_exporter": "python",
   "pygments_lexer": "ipython3",
   "version": "3.7.3"
  }
 },
 "nbformat": 4,
 "nbformat_minor": 2
}
